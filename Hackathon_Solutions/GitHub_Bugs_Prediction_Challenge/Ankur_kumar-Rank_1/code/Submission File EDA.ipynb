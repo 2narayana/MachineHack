{
 "cells": [
  {
   "cell_type": "code",
   "execution_count": 54,
   "metadata": {
    "ExecuteTime": {
     "end_time": "2020-10-18T13:33:28.892596Z",
     "start_time": "2020-10-18T13:33:28.889481Z"
    }
   },
   "outputs": [],
   "source": [
    "import pandas as pd\n",
    "from dateutil.parser import parse\n",
    "import matplotlib.pyplot as plt\n",
    "import matplotlib.dates as mdates"
   ]
  },
  {
   "cell_type": "code",
   "execution_count": 24,
   "metadata": {
    "ExecuteTime": {
     "end_time": "2020-10-18T13:23:44.736498Z",
     "start_time": "2020-10-18T13:23:44.731114Z"
    }
   },
   "outputs": [],
   "source": [
    "data = pd.read_csv('/Users/ankur.kumar/Downloads/all_submitted_files.csv', sep='\\t')"
   ]
  },
  {
   "cell_type": "code",
   "execution_count": 41,
   "metadata": {
    "ExecuteTime": {
     "end_time": "2020-10-18T13:32:04.817360Z",
     "start_time": "2020-10-18T13:32:04.810331Z"
    }
   },
   "outputs": [],
   "source": [
    "data['Submitted On'] = pd.to_datetime(data['Submitted On'], format='%d/%m/%Y %X')"
   ]
  },
  {
   "cell_type": "code",
   "execution_count": 66,
   "metadata": {
    "ExecuteTime": {
     "end_time": "2020-10-18T15:53:19.354247Z",
     "start_time": "2020-10-18T15:53:19.196230Z"
    }
   },
   "outputs": [
    {
     "data": {
      "text/html": [
       "<div>\n",
       "<style scoped>\n",
       "    .dataframe tbody tr th:only-of-type {\n",
       "        vertical-align: middle;\n",
       "    }\n",
       "\n",
       "    .dataframe tbody tr th {\n",
       "        vertical-align: top;\n",
       "    }\n",
       "\n",
       "    .dataframe thead th {\n",
       "        text-align: right;\n",
       "    }\n",
       "</style>\n",
       "<table border=\"1\" class=\"dataframe\">\n",
       "  <thead>\n",
       "    <tr style=\"text-align: right;\">\n",
       "      <th></th>\n",
       "      <th>File</th>\n",
       "      <th>Submitted On</th>\n",
       "      <th>Comment</th>\n",
       "      <th>Public Score</th>\n",
       "      <th>Private Score</th>\n",
       "    </tr>\n",
       "  </thead>\n",
       "  <tbody>\n",
       "    <tr>\n",
       "      <th>85</th>\n",
       "      <td>ensemble_v8_lrModel.csv</td>\n",
       "      <td>2020-10-17 16:47:48</td>\n",
       "      <td>ensemble_v8_lrModel</td>\n",
       "      <td>0.850222</td>\n",
       "      <td>0.853767</td>\n",
       "    </tr>\n",
       "    <tr>\n",
       "      <th>86</th>\n",
       "      <td>multi_model_lr_v1.csv</td>\n",
       "      <td>2020-10-17 21:43:40</td>\n",
       "      <td>multi_model_lr_v1</td>\n",
       "      <td>0.851444</td>\n",
       "      <td>0.855533</td>\n",
       "    </tr>\n",
       "    <tr>\n",
       "      <th>87</th>\n",
       "      <td>multi_model_svc_v2.csv</td>\n",
       "      <td>2020-10-17 21:44:25</td>\n",
       "      <td>multi_model_svc_v2</td>\n",
       "      <td>0.850889</td>\n",
       "      <td>0.854733</td>\n",
       "    </tr>\n",
       "    <tr>\n",
       "      <th>88</th>\n",
       "      <td>multi_model_svc_v2.csv</td>\n",
       "      <td>2020-10-17 21:44:56</td>\n",
       "      <td>multi_model_nn_v3</td>\n",
       "      <td>0.850889</td>\n",
       "      <td>0.854733</td>\n",
       "    </tr>\n",
       "    <tr>\n",
       "      <th>89</th>\n",
       "      <td>multi_model_nn_v3.csv</td>\n",
       "      <td>2020-10-18 06:00:31</td>\n",
       "      <td>multi_model_nn_v3</td>\n",
       "      <td>0.850889</td>\n",
       "      <td>0.854667</td>\n",
       "    </tr>\n",
       "    <tr>\n",
       "      <th>90</th>\n",
       "      <td>multi_model_svc_v4.csv</td>\n",
       "      <td>2020-10-18 06:04:46</td>\n",
       "      <td>multi_model_svc_v4</td>\n",
       "      <td>0.848667</td>\n",
       "      <td>0.853367</td>\n",
       "    </tr>\n",
       "    <tr>\n",
       "      <th>91</th>\n",
       "      <td>multi_model_equal_weights_v5.csv</td>\n",
       "      <td>2020-10-18 06:26:59</td>\n",
       "      <td>multi_model_equal_weights_v5</td>\n",
       "      <td>0.851444</td>\n",
       "      <td>0.855867</td>\n",
       "    </tr>\n",
       "    <tr>\n",
       "      <th>92</th>\n",
       "      <td>multi_model_optimized_weights_v5.csv</td>\n",
       "      <td>2020-10-18 06:29:46</td>\n",
       "      <td>multi_model_optimized_weights_v5</td>\n",
       "      <td>0.851222</td>\n",
       "      <td>0.855567</td>\n",
       "    </tr>\n",
       "    <tr>\n",
       "      <th>93</th>\n",
       "      <td>multi_model_svc_v6.csv</td>\n",
       "      <td>2020-10-18 06:56:15</td>\n",
       "      <td>multi_model_svc_v6</td>\n",
       "      <td>0.851444</td>\n",
       "      <td>0.855900</td>\n",
       "    </tr>\n",
       "    <tr>\n",
       "      <th>94</th>\n",
       "      <td>multi_model_lr_v7.csv</td>\n",
       "      <td>2020-10-18 06:56:39</td>\n",
       "      <td>multi_model_lr_v7</td>\n",
       "      <td>0.851889</td>\n",
       "      <td>0.856133</td>\n",
       "    </tr>\n",
       "  </tbody>\n",
       "</table>\n",
       "</div>"
      ],
      "text/plain": [
       "                                    File        Submitted On  \\\n",
       "85               ensemble_v8_lrModel.csv 2020-10-17 16:47:48   \n",
       "86                 multi_model_lr_v1.csv 2020-10-17 21:43:40   \n",
       "87                multi_model_svc_v2.csv 2020-10-17 21:44:25   \n",
       "88                multi_model_svc_v2.csv 2020-10-17 21:44:56   \n",
       "89                 multi_model_nn_v3.csv 2020-10-18 06:00:31   \n",
       "90                multi_model_svc_v4.csv 2020-10-18 06:04:46   \n",
       "91      multi_model_equal_weights_v5.csv 2020-10-18 06:26:59   \n",
       "92  multi_model_optimized_weights_v5.csv 2020-10-18 06:29:46   \n",
       "93                multi_model_svc_v6.csv 2020-10-18 06:56:15   \n",
       "94                 multi_model_lr_v7.csv 2020-10-18 06:56:39   \n",
       "\n",
       "                             Comment  Public Score  Private Score  \n",
       "85               ensemble_v8_lrModel      0.850222       0.853767  \n",
       "86                 multi_model_lr_v1      0.851444       0.855533  \n",
       "87                multi_model_svc_v2      0.850889       0.854733  \n",
       "88                 multi_model_nn_v3      0.850889       0.854733  \n",
       "89                 multi_model_nn_v3      0.850889       0.854667  \n",
       "90                multi_model_svc_v4      0.848667       0.853367  \n",
       "91      multi_model_equal_weights_v5      0.851444       0.855867  \n",
       "92  multi_model_optimized_weights_v5      0.851222       0.855567  \n",
       "93                multi_model_svc_v6      0.851444       0.855900  \n",
       "94                 multi_model_lr_v7      0.851889       0.856133  "
      ]
     },
     "execution_count": 66,
     "metadata": {},
     "output_type": "execute_result"
    }
   ],
   "source": [
    "data.tail(10)"
   ]
  },
  {
   "cell_type": "code",
   "execution_count": 43,
   "metadata": {
    "ExecuteTime": {
     "end_time": "2020-10-18T13:32:13.923495Z",
     "start_time": "2020-10-18T13:32:13.911667Z"
    }
   },
   "outputs": [
    {
     "data": {
      "text/html": [
       "<div>\n",
       "<style scoped>\n",
       "    .dataframe tbody tr th:only-of-type {\n",
       "        vertical-align: middle;\n",
       "    }\n",
       "\n",
       "    .dataframe tbody tr th {\n",
       "        vertical-align: top;\n",
       "    }\n",
       "\n",
       "    .dataframe thead th {\n",
       "        text-align: right;\n",
       "    }\n",
       "</style>\n",
       "<table border=\"1\" class=\"dataframe\">\n",
       "  <thead>\n",
       "    <tr style=\"text-align: right;\">\n",
       "      <th></th>\n",
       "      <th>File</th>\n",
       "      <th>Submitted On</th>\n",
       "      <th>Comment</th>\n",
       "      <th>Public Score</th>\n",
       "      <th>Private Score</th>\n",
       "    </tr>\n",
       "  </thead>\n",
       "  <tbody>\n",
       "    <tr>\n",
       "      <th>82</th>\n",
       "      <td>ensemble_v9_svm.csv</td>\n",
       "      <td>2020-10-17 11:13:46</td>\n",
       "      <td>ensemble_v9_svm</td>\n",
       "      <td>0.852111</td>\n",
       "      <td>0.854700</td>\n",
       "    </tr>\n",
       "    <tr>\n",
       "      <th>94</th>\n",
       "      <td>multi_model_lr_v7.csv</td>\n",
       "      <td>2020-10-18 06:56:39</td>\n",
       "      <td>multi_model_lr_v7</td>\n",
       "      <td>0.851889</td>\n",
       "      <td>0.856133</td>\n",
       "    </tr>\n",
       "    <tr>\n",
       "      <th>61</th>\n",
       "      <td>ensemble_v8_1.csv</td>\n",
       "      <td>2020-10-15 09:23:56</td>\n",
       "      <td>ensemble_v8_2</td>\n",
       "      <td>0.851889</td>\n",
       "      <td>0.854533</td>\n",
       "    </tr>\n",
       "    <tr>\n",
       "      <th>60</th>\n",
       "      <td>ensemble_v8_1.csv</td>\n",
       "      <td>2020-10-15 09:17:16</td>\n",
       "      <td>ensemble_v8_1</td>\n",
       "      <td>0.851889</td>\n",
       "      <td>0.854533</td>\n",
       "    </tr>\n",
       "    <tr>\n",
       "      <th>66</th>\n",
       "      <td>level3ensemble_new_v4.csv</td>\n",
       "      <td>2020-10-15 19:42:36</td>\n",
       "      <td>level3ensemble_new_v4</td>\n",
       "      <td>0.851778</td>\n",
       "      <td>0.855300</td>\n",
       "    </tr>\n",
       "    <tr>\n",
       "      <th>65</th>\n",
       "      <td>ensemble_v9_1.csv</td>\n",
       "      <td>2020-10-15 19:42:04</td>\n",
       "      <td>level3ensemble_new_v4</td>\n",
       "      <td>0.851556</td>\n",
       "      <td>0.854733</td>\n",
       "    </tr>\n",
       "    <tr>\n",
       "      <th>64</th>\n",
       "      <td>ensemble_v9_1.csv</td>\n",
       "      <td>2020-10-15 19:24:19</td>\n",
       "      <td>ensemble_v9_1</td>\n",
       "      <td>0.851556</td>\n",
       "      <td>0.854733</td>\n",
       "    </tr>\n",
       "    <tr>\n",
       "      <th>93</th>\n",
       "      <td>multi_model_svc_v6.csv</td>\n",
       "      <td>2020-10-18 06:56:15</td>\n",
       "      <td>multi_model_svc_v6</td>\n",
       "      <td>0.851444</td>\n",
       "      <td>0.855900</td>\n",
       "    </tr>\n",
       "    <tr>\n",
       "      <th>91</th>\n",
       "      <td>multi_model_equal_weights_v5.csv</td>\n",
       "      <td>2020-10-18 06:26:59</td>\n",
       "      <td>multi_model_equal_weights_v5</td>\n",
       "      <td>0.851444</td>\n",
       "      <td>0.855867</td>\n",
       "    </tr>\n",
       "    <tr>\n",
       "      <th>86</th>\n",
       "      <td>multi_model_lr_v1.csv</td>\n",
       "      <td>2020-10-17 21:43:40</td>\n",
       "      <td>multi_model_lr_v1</td>\n",
       "      <td>0.851444</td>\n",
       "      <td>0.855533</td>\n",
       "    </tr>\n",
       "  </tbody>\n",
       "</table>\n",
       "</div>"
      ],
      "text/plain": [
       "                                File        Submitted On  \\\n",
       "82               ensemble_v9_svm.csv 2020-10-17 11:13:46   \n",
       "94             multi_model_lr_v7.csv 2020-10-18 06:56:39   \n",
       "61                 ensemble_v8_1.csv 2020-10-15 09:23:56   \n",
       "60                 ensemble_v8_1.csv 2020-10-15 09:17:16   \n",
       "66         level3ensemble_new_v4.csv 2020-10-15 19:42:36   \n",
       "65                 ensemble_v9_1.csv 2020-10-15 19:42:04   \n",
       "64                 ensemble_v9_1.csv 2020-10-15 19:24:19   \n",
       "93            multi_model_svc_v6.csv 2020-10-18 06:56:15   \n",
       "91  multi_model_equal_weights_v5.csv 2020-10-18 06:26:59   \n",
       "86             multi_model_lr_v1.csv 2020-10-17 21:43:40   \n",
       "\n",
       "                         Comment  Public Score  Private Score  \n",
       "82               ensemble_v9_svm      0.852111       0.854700  \n",
       "94             multi_model_lr_v7      0.851889       0.856133  \n",
       "61                 ensemble_v8_2      0.851889       0.854533  \n",
       "60                 ensemble_v8_1      0.851889       0.854533  \n",
       "66         level3ensemble_new_v4      0.851778       0.855300  \n",
       "65         level3ensemble_new_v4      0.851556       0.854733  \n",
       "64                 ensemble_v9_1      0.851556       0.854733  \n",
       "93            multi_model_svc_v6      0.851444       0.855900  \n",
       "91  multi_model_equal_weights_v5      0.851444       0.855867  \n",
       "86             multi_model_lr_v1      0.851444       0.855533  "
      ]
     },
     "execution_count": 43,
     "metadata": {},
     "output_type": "execute_result"
    }
   ],
   "source": [
    "data.sort_values('Public Score',ascending = False).head(10)"
   ]
  },
  {
   "cell_type": "code",
   "execution_count": 44,
   "metadata": {
    "ExecuteTime": {
     "end_time": "2020-10-18T13:32:14.496087Z",
     "start_time": "2020-10-18T13:32:14.483944Z"
    }
   },
   "outputs": [
    {
     "data": {
      "text/html": [
       "<div>\n",
       "<style scoped>\n",
       "    .dataframe tbody tr th:only-of-type {\n",
       "        vertical-align: middle;\n",
       "    }\n",
       "\n",
       "    .dataframe tbody tr th {\n",
       "        vertical-align: top;\n",
       "    }\n",
       "\n",
       "    .dataframe thead th {\n",
       "        text-align: right;\n",
       "    }\n",
       "</style>\n",
       "<table border=\"1\" class=\"dataframe\">\n",
       "  <thead>\n",
       "    <tr style=\"text-align: right;\">\n",
       "      <th></th>\n",
       "      <th>File</th>\n",
       "      <th>Submitted On</th>\n",
       "      <th>Comment</th>\n",
       "      <th>Public Score</th>\n",
       "      <th>Private Score</th>\n",
       "    </tr>\n",
       "  </thead>\n",
       "  <tbody>\n",
       "    <tr>\n",
       "      <th>94</th>\n",
       "      <td>multi_model_lr_v7.csv</td>\n",
       "      <td>2020-10-18 06:56:39</td>\n",
       "      <td>multi_model_lr_v7</td>\n",
       "      <td>0.851889</td>\n",
       "      <td>0.856133</td>\n",
       "    </tr>\n",
       "    <tr>\n",
       "      <th>93</th>\n",
       "      <td>multi_model_svc_v6.csv</td>\n",
       "      <td>2020-10-18 06:56:15</td>\n",
       "      <td>multi_model_svc_v6</td>\n",
       "      <td>0.851444</td>\n",
       "      <td>0.855900</td>\n",
       "    </tr>\n",
       "    <tr>\n",
       "      <th>91</th>\n",
       "      <td>multi_model_equal_weights_v5.csv</td>\n",
       "      <td>2020-10-18 06:26:59</td>\n",
       "      <td>multi_model_equal_weights_v5</td>\n",
       "      <td>0.851444</td>\n",
       "      <td>0.855867</td>\n",
       "    </tr>\n",
       "    <tr>\n",
       "      <th>92</th>\n",
       "      <td>multi_model_optimized_weights_v5.csv</td>\n",
       "      <td>2020-10-18 06:29:46</td>\n",
       "      <td>multi_model_optimized_weights_v5</td>\n",
       "      <td>0.851222</td>\n",
       "      <td>0.855567</td>\n",
       "    </tr>\n",
       "    <tr>\n",
       "      <th>86</th>\n",
       "      <td>multi_model_lr_v1.csv</td>\n",
       "      <td>2020-10-17 21:43:40</td>\n",
       "      <td>multi_model_lr_v1</td>\n",
       "      <td>0.851444</td>\n",
       "      <td>0.855533</td>\n",
       "    </tr>\n",
       "    <tr>\n",
       "      <th>66</th>\n",
       "      <td>level3ensemble_new_v4.csv</td>\n",
       "      <td>2020-10-15 19:42:36</td>\n",
       "      <td>level3ensemble_new_v4</td>\n",
       "      <td>0.851778</td>\n",
       "      <td>0.855300</td>\n",
       "    </tr>\n",
       "    <tr>\n",
       "      <th>68</th>\n",
       "      <td>level3ensemble_new_v6.csv</td>\n",
       "      <td>2020-10-15 19:52:43</td>\n",
       "      <td>level3ensemble_new_v6</td>\n",
       "      <td>0.851111</td>\n",
       "      <td>0.854867</td>\n",
       "    </tr>\n",
       "    <tr>\n",
       "      <th>56</th>\n",
       "      <td>level3ensemble_new_v1.csv</td>\n",
       "      <td>2020-10-14 19:47:30</td>\n",
       "      <td>level3ensemble_new_v1</td>\n",
       "      <td>0.850889</td>\n",
       "      <td>0.854800</td>\n",
       "    </tr>\n",
       "    <tr>\n",
       "      <th>88</th>\n",
       "      <td>multi_model_svc_v2.csv</td>\n",
       "      <td>2020-10-17 21:44:56</td>\n",
       "      <td>multi_model_nn_v3</td>\n",
       "      <td>0.850889</td>\n",
       "      <td>0.854733</td>\n",
       "    </tr>\n",
       "    <tr>\n",
       "      <th>87</th>\n",
       "      <td>multi_model_svc_v2.csv</td>\n",
       "      <td>2020-10-17 21:44:25</td>\n",
       "      <td>multi_model_svc_v2</td>\n",
       "      <td>0.850889</td>\n",
       "      <td>0.854733</td>\n",
       "    </tr>\n",
       "  </tbody>\n",
       "</table>\n",
       "</div>"
      ],
      "text/plain": [
       "                                    File        Submitted On  \\\n",
       "94                 multi_model_lr_v7.csv 2020-10-18 06:56:39   \n",
       "93                multi_model_svc_v6.csv 2020-10-18 06:56:15   \n",
       "91      multi_model_equal_weights_v5.csv 2020-10-18 06:26:59   \n",
       "92  multi_model_optimized_weights_v5.csv 2020-10-18 06:29:46   \n",
       "86                 multi_model_lr_v1.csv 2020-10-17 21:43:40   \n",
       "66             level3ensemble_new_v4.csv 2020-10-15 19:42:36   \n",
       "68             level3ensemble_new_v6.csv 2020-10-15 19:52:43   \n",
       "56             level3ensemble_new_v1.csv 2020-10-14 19:47:30   \n",
       "88                multi_model_svc_v2.csv 2020-10-17 21:44:56   \n",
       "87                multi_model_svc_v2.csv 2020-10-17 21:44:25   \n",
       "\n",
       "                             Comment  Public Score  Private Score  \n",
       "94                 multi_model_lr_v7      0.851889       0.856133  \n",
       "93                multi_model_svc_v6      0.851444       0.855900  \n",
       "91      multi_model_equal_weights_v5      0.851444       0.855867  \n",
       "92  multi_model_optimized_weights_v5      0.851222       0.855567  \n",
       "86                 multi_model_lr_v1      0.851444       0.855533  \n",
       "66             level3ensemble_new_v4      0.851778       0.855300  \n",
       "68             level3ensemble_new_v6      0.851111       0.854867  \n",
       "56             level3ensemble_new_v1      0.850889       0.854800  \n",
       "88                 multi_model_nn_v3      0.850889       0.854733  \n",
       "87                multi_model_svc_v2      0.850889       0.854733  "
      ]
     },
     "execution_count": 44,
     "metadata": {},
     "output_type": "execute_result"
    }
   ],
   "source": [
    "data.sort_values('Private Score',ascending = False).head(10)"
   ]
  },
  {
   "cell_type": "code",
   "execution_count": 64,
   "metadata": {
    "ExecuteTime": {
     "end_time": "2020-10-18T13:34:24.503758Z",
     "start_time": "2020-10-18T13:34:24.500039Z"
    }
   },
   "outputs": [],
   "source": [
    "new_data = data[['Submitted On', 'Public Score', 'Private Score']]"
   ]
  },
  {
   "cell_type": "code",
   "execution_count": 65,
   "metadata": {
    "ExecuteTime": {
     "end_time": "2020-10-18T13:34:28.347176Z",
     "start_time": "2020-10-18T13:34:27.904110Z"
    }
   },
   "outputs": [
    {
     "data": {
      "text/plain": [
       "<AxesSubplot:xlabel='Submitted On'>"
      ]
     },
     "execution_count": 65,
     "metadata": {},
     "output_type": "execute_result"
    },
    {
     "data": {
      "image/png": "[encoded data removed]",
      "text/plain": [
       "<Figure size 1080x504 with 1 Axes>"
      ]
     },
     "metadata": {
      "needs_background": "light"
     },
     "output_type": "display_data"
    }
   ],
   "source": [
    "#set date as index\n",
    "new_data.set_index('Submitted On',inplace=True)\n",
    "\n",
    "#plot data\n",
    "fig, ax = plt.subplots(figsize=(15,7))\n",
    "new_data.plot(ax=ax)"
   ]
  },
  {
   "cell_type": "code",
   "execution_count": null,
   "metadata": {},
   "outputs": [],
   "source": []
  }
 ],
 "metadata": {
  "kernelspec": {
   "display_name": "Python 3.7.5 64-bit ('tf2_env': venv)",
   "language": "python",
   "name": "python37564bittf2envvenv9baad5f63bf544adb456767f347f0830"
  },
  "language_info": {
   "codemirror_mode": {
    "name": "ipython",
    "version": 3
   },
   "file_extension": ".py",
   "mimetype": "text/x-python",
   "name": "python",
   "nbconvert_exporter": "python",
   "pygments_lexer": "ipython3",
   "version": "3.7.5"
  },
  "toc": {
   "base_numbering": 1,
   "nav_menu": {},
   "number_sections": true,
   "sideBar": true,
   "skip_h1_title": false,
   "title_cell": "Table of Contents",
   "title_sidebar": "Contents",
   "toc_cell": false,
   "toc_position": {},
   "toc_section_display": true,
   "toc_window_display": false
  }
 },
 "nbformat": 4,
 "nbformat_minor": 4
}
