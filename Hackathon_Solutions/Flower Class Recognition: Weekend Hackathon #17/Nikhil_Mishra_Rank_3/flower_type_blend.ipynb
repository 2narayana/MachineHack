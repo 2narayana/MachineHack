{
  "nbformat": 4,
  "nbformat_minor": 0,
  "metadata": {
    "colab": {
      "name": "flower_type_blend.ipynb",
      "provenance": []
    },
    "kernelspec": {
      "name": "python3",
      "display_name": "Python 3"
    }
  },
  "cells": [
    {
      "cell_type": "code",
      "metadata": {
        "id": "7b9f2lCWNxT_",
        "colab_type": "code",
        "colab": {}
      },
      "source": [
        "import numpy as np\n",
        "import pandas as pd"
      ],
      "execution_count": null,
      "outputs": []
    },
    {
      "cell_type": "code",
      "metadata": {
        "id": "xt6I7P0QN1mH",
        "colab_type": "code",
        "colab": {}
      },
      "source": [
        "a = pd.read_csv('mft_v6.csv')\n",
        "b = pd.read_csv('mft_v7.csv')\n",
        "c = pd.read_csv('mft_v10.csv')"
      ],
      "execution_count": null,
      "outputs": []
    },
    {
      "cell_type": "code",
      "metadata": {
        "id": "4Z9-sUyrOIjd",
        "colab_type": "code",
        "colab": {}
      },
      "source": [
        "sub = a * 0.33 + b * 0.26 + c * 0.41"
      ],
      "execution_count": null,
      "outputs": []
    },
    {
      "cell_type": "code",
      "metadata": {
        "id": "DghSdbnWOLcA",
        "colab_type": "code",
        "colab": {}
      },
      "source": [
        "sub.to_csv('blend_v6_v7_v10_33_26_41.csv', index=False)"
      ],
      "execution_count": null,
      "outputs": []
    }
  ]
}